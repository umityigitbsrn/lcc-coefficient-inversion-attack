{
 "cells": [
  {
   "cell_type": "code",
   "execution_count": 15,
   "id": "initial_id",
   "metadata": {
    "collapsed": true,
    "ExecuteTime": {
     "end_time": "2023-10-25T23:25:28.466130462Z",
     "start_time": "2023-10-25T23:25:28.424956343Z"
    }
   },
   "outputs": [],
   "source": [
    "import galois\n",
    "from polynomials import LCCPoly"
   ]
  },
  {
   "cell_type": "code",
   "execution_count": 26,
   "outputs": [],
   "source": [
    "lcc_poly_01 = LCCPoly([0, 1, 2], [4, 5], 2, 1, 7)\n",
    "lcc_poly_02 = LCCPoly([0, 1, 2], [3, 6], 2, 1, 7)\n",
    "lcc_poly_mul = lcc_poly_01 * lcc_poly_02"
   ],
   "metadata": {
    "collapsed": false,
    "ExecuteTime": {
     "end_time": "2023-10-25T23:28:40.005988718Z",
     "start_time": "2023-10-25T23:28:39.961703316Z"
    }
   },
   "id": "b53094b2d951f5e1"
  },
  {
   "cell_type": "code",
   "execution_count": 27,
   "outputs": [
    {
     "name": "stdout",
     "output_type": "stream",
     "text": [
      "[2] [1]\n",
      "[4 3 5] [3 0 3] [5. 2. 6. 2. 1.]\n"
     ]
    }
   ],
   "source": [
    "print(lcc_poly_01.random_arr, lcc_poly_02.random_arr)\n",
    "print(lcc_poly_01.coefficients, lcc_poly_02.coefficients, lcc_poly_mul.coefficients)"
   ],
   "metadata": {
    "collapsed": false,
    "ExecuteTime": {
     "end_time": "2023-10-25T23:28:40.635867278Z",
     "start_time": "2023-10-25T23:28:40.633852833Z"
    }
   },
   "id": "6e299ab6fb333928"
  },
  {
   "cell_type": "code",
   "execution_count": 45,
   "outputs": [
    {
     "name": "stdout",
     "output_type": "stream",
     "text": [
      "5x^2 + 3x + 4\n",
      "3x^2 + 3\n"
     ]
    }
   ],
   "source": [
    "field = galois.GF(7)\n",
    "galois_poly_01 = galois.Poly(lcc_poly_01.coefficients, field, order='asc')\n",
    "galois_poly_02 = galois.Poly(lcc_poly_02.coefficients, field, order='asc')\n",
    "galois_poly_mul_lcc = galois.Poly(lcc_poly_mul.coefficients, field, order='asc')\n",
    "galois_poly_mul = galois_poly_01 * galois_poly_02\n",
    "print(galois_poly_01)\n",
    "print(galois_poly_02)"
   ],
   "metadata": {
    "collapsed": false,
    "ExecuteTime": {
     "end_time": "2023-10-25T23:38:18.809524491Z",
     "start_time": "2023-10-25T23:38:18.767738867Z"
    }
   },
   "id": "c708bb089753f71b"
  },
  {
   "cell_type": "code",
   "execution_count": 54,
   "outputs": [
    {
     "name": "stdout",
     "output_type": "stream",
     "text": [
      "3x^2 + 3\n",
      "5x^2 + 3x + 4\n"
     ]
    }
   ],
   "source": [
    "pol_arr, power = galois.factors(galois_poly_mul)\n",
    "pol1, pol2 = pol_arr\n",
    "print(pol1 * 3)\n",
    "print(pol2 // field(3))"
   ],
   "metadata": {
    "collapsed": false,
    "ExecuteTime": {
     "end_time": "2023-10-25T23:41:22.329904379Z",
     "start_time": "2023-10-25T23:41:22.286698706Z"
    }
   },
   "id": "8d8d62a5c1322732"
  }
 ],
 "metadata": {
  "kernelspec": {
   "display_name": "Python 3",
   "language": "python",
   "name": "python3"
  },
  "language_info": {
   "codemirror_mode": {
    "name": "ipython",
    "version": 2
   },
   "file_extension": ".py",
   "mimetype": "text/x-python",
   "name": "python",
   "nbconvert_exporter": "python",
   "pygments_lexer": "ipython2",
   "version": "2.7.6"
  }
 },
 "nbformat": 4,
 "nbformat_minor": 5
}
